{
 "cells": [
  {
   "cell_type": "markdown",
   "id": "configured-camera",
   "metadata": {},
   "source": [
    "# Quantum Circuit Simulator\n",
    "\n",
    "Sophie Cavallini | 2021\n",
    "\n",
    "First of all I need to import the necesserary libraries. Since the idea of the task is to create a quantum simulator from scratch I won't add any library with build-in function for quantum computing like qiskit and cirq."
   ]
  },
  {
   "cell_type": "code",
   "execution_count": 1,
   "id": "divine-vector",
   "metadata": {},
   "outputs": [],
   "source": [
    "import numpy as np\n",
    "import math\n",
    "import cmath\n",
    "import numpy.random"
   ]
  },
  {
   "cell_type": "markdown",
   "id": "legitimate-hostel",
   "metadata": {},
   "source": [
    "## Part 1\n",
    "In this part I created some basic matrixes/vector that are usefull, so I don't have to define them everytime I need use them.\n",
    "### Basis:\n",
    "Z basis (|0> and |1>), X basis (|+> and |->) and Y basis (|i> and |-i>).\n",
    "\n",
    "Note: I use the encoding Big Endian."
   ]
  },
  {
   "cell_type": "code",
   "execution_count": 2,
   "id": "identical-breach",
   "metadata": {},
   "outputs": [],
   "source": [
    "# Qubit in |0> state (100% probability of measuring 0)\n",
    "q0 = [1, 0]\n",
    "\n",
    "# Qubit in |1> state (100% probability of measuring 1)\n",
    "q1 = [0, 1] \n",
    "\n",
    "# Qubit |+> state (superposition: 50% probability of measuring 0 and 50% probability of measuring 1)\n",
    "q2 = [0.7071067811865475, 0.7071067811865475]\n",
    "\n",
    "# Qubit |-> state (superposition: 50% probability of measuring 0 and 50% probability of measuring 1) with phase pi\n",
    "q3 = [0.7071067811865475, -0.7071067811865475]\n",
    "\n",
    "# Qubit |i> state (superposition: 50% probability of measuring 0 and 50% probability of measuring 1) with phase pi/2\n",
    "q3 = [0.7071067811865475, 0+0.7071067811865475j]\n",
    "\n",
    "# Qubit |-i> state (superposition: 50% probability of measuring 0 and 50% probability of measuring 1) with phase -pi/2\n",
    "q4 = [0.7071067811865475, 0-0.7071067811865475j]"
   ]
  },
  {
   "cell_type": "markdown",
   "id": "hundred-franklin",
   "metadata": {},
   "source": [
    "### Gates:\n",
    "X, Z, H(Hadamard), Y, S, T, CNOT and SWAP.\n"
   ]
  },
  {
   "cell_type": "code",
   "execution_count": null,
   "id": "separate-senator",
   "metadata": {},
   "outputs": [],
   "source": [
    "#Define X (NOT) gate:\n",
    "X = np.array([[0, 1], [1, 0]])\n",
    "\n",
    "#Define Z gate\n",
    "Z = np.array([[1, 0], [0, -1]])\n",
    "\n",
    "# Define H (Hadamard) gate:\n",
    "H = np.array([[1/np.sqrt(2), 1/np.sqrt(2)], [1/np.sqrt(2), -1/np.sqrt(2)]])\n",
    "\n",
    "#Define Y gate:\n",
    "Y = np.array([[0, -1j], [1j, 0]])\n",
    "\n",
    "#Define S gate\n",
    "S = np.array([[1, 0], [0, cmath.exp(1j*math.pi/2)]])\n",
    "\n",
    "#Define T gate\n",
    "T = np.array([[1, 0],[0, cmath.exp(1j*math.pi/4)]])\n",
    "\n",
    "#Define CNOT gate\n",
    "CX = np.array([[1, 0, 0, 0], [0, 1, 0, 0], [0, 0, 0, 1], [0, 0, 1, 0]])\n",
    "\n",
    "#Define SWAP gate\n",
    "SWAP = [[1, 0, 0, 0], [0, 0, 1, 0], [0, 1, 0, 0], [0, 0, 0, 1]]"
   ]
  },
  {
   "cell_type": "markdown",
   "id": "genuine-reunion",
   "metadata": {},
   "source": [
    "### Other usefull things to have:"
   ]
  },
  {
   "cell_type": "code",
   "execution_count": null,
   "id": "printable-account",
   "metadata": {},
   "outputs": [],
   "source": [
    "# Define projection operator |0><0|\n",
    "P0x0 = np.array([[1, 0],[0, 0]])\n",
    "\n",
    "# Define projection operator |1><1|\n",
    "P1x1 = np.array([[0, 0],[0, 1]])\n",
    "\n",
    "#Define identity matrix\n",
    "I = np.identity(2)"
   ]
  },
  {
   "cell_type": "markdown",
   "id": "embedded-valuation",
   "metadata": {},
   "source": [
    "## Part 2\n",
    "Here I created all the simulator itself, so I made the functions necessary to:\n",
    "- initialize state\n",
    "- read program, and for each gate:\n",
    "  - calculate matrix operator\n",
    "  - apply operator (modify state)\n",
    "- perform multi-shot measurement of all qubits using weighted random technique.\n",
    "\n",
    "This is the complete simulator [qc_basic.py](https://github.com/SophieCavallini/QOSF-task/blob/main/qc_basic.py).\n",
    "\n",
    "### Initialize state:"
   ]
  },
  {
   "cell_type": "code",
   "execution_count": null,
   "id": "verbal-entrance",
   "metadata": {},
   "outputs": [],
   "source": [
    "def get_ground_state(num_qubits):\n",
    "    #return vector of size 2**num_qubits with all zeroes except first element which is 1\n",
    "    vq = np.zeros_like(np.arange(2**num_qubits))\n",
    "    vq[0] = 1\n",
    "    return vq"
   ]
  },
  {
   "cell_type": "markdown",
   "id": "grateful-disposition",
   "metadata": {},
   "source": [
    "### Calculate the matrix operator:\n",
    "If the gate is unitary it simply check between the gates that I created above and outputs the correct unitary given the name. This function only apply if the gate a single qubit gate. It checks it in the run_program function."
   ]
  },
  {
   "cell_type": "code",
   "execution_count": null,
   "id": "pretty-calcium",
   "metadata": {},
   "outputs": [],
   "source": [
    "def find_unitary(name_gate):\n",
    "    # return the unitary matrix of single-qubit elementary gate, given the gate name\n",
    "    if(name_gate == 'x'): return X\n",
    "    if(name_gate == 'z'): return Z\n",
    "    if(name_gate == 'h'): return H\n",
    "    if(name_gate == 'y'): return Y\n",
    "    if(name_gate == 's'): return S\n",
    "    if(name_gate == 't'): return T\n",
    "    else:\n",
    "        print('The gate: ', name_gate, 'does not exists, yet, the program will go to the next one' )\n",
    "        return I"
   ]
  },
  {
   "cell_type": "markdown",
   "id": "printable-parker",
   "metadata": {},
   "source": [
    "Then it has get the operator given the matrix unitary of the gate. It has to apply the gate in the correct position given the target qubit. Also this function applies only to single-qubit gates."
   ]
  },
  {
   "cell_type": "code",
   "execution_count": null,
   "id": "supposed-collaboration",
   "metadata": {},
   "outputs": [],
   "source": [
    "def get_operator(total_qubits, gate_unitary, target_qubits):\n",
    "    # return unitary operator of size 2**n x 2**n for given single-qubit gate and target qubits\n",
    "    I = np.identity(2)\n",
    "    Ik = I\n",
    "    if target_qubits==0:\n",
    "        O=gate_unitary\n",
    "    else:\n",
    "        for i in range(1, target_qubits-1):\n",
    "            Ik = np.kron(Ik, I)\n",
    "        O = np.kron(Ik, gate_unitary) \n",
    "    for i in range(1, total_qubits-target_qubits):\n",
    "        O = np.kron(O, I)\n",
    "    return O"
   ]
  },
  {
   "cell_type": "markdown",
   "id": "assisted-cookie",
   "metadata": {},
   "source": [
    "For the CNOT gate the things gate I little bit harder, since it is a multi-qubit gates, it has to handle with target qubit and also the controll qubit. So, I have decided to create a single function which gets the unitary and the applies it in the correct position. This function applies only to the CNOT gate, and not the every 2-qubit gate."
   ]
  },
  {
   "cell_type": "code",
   "execution_count": null,
   "id": "supported-lancaster",
   "metadata": {},
   "outputs": [],
   "source": [
    "def cnot(control, target, num_qubits):\n",
    "    # return unitary operator of size 2**n x 2**n for cnot gate given the control and target qubits\n",
    "    if(control>target):\n",
    "        #if the control qubit is larger than the target one it will compute the unitary operator with target and control inverted and then\n",
    "        #rotate and traspose the matrix to obtain the one required\n",
    "        return np.rot90(cnot(target, control, num_qubits),2).T\n",
    "    #P0x0 and P1x1 need to be in position: control (so if control = 0 then they will be the first factor of the tensor product)\n",
    "    if (control == 0):\n",
    "        O1 = P0x0\n",
    "        O2 = P1x1\n",
    "    else:\n",
    "        O1 = I\n",
    "        for i in range(1, control):\n",
    "            O1 = np.kron(O1, I)\n",
    "        O2 = np.kron(O1, P1x1)\n",
    "        O1 = np.kron(O1, P0x0)\n",
    "    #in position: target, for O2 there will be the X unitary, will for O1 there will be simply the identity matrix\n",
    "    for i in range(1, np.abs(target-control)):\n",
    "        O1 = np.kron(O1, I)\n",
    "        O2 = np.kron(O2, I)\n",
    "    O1 = np.kron(O1, I)\n",
    "    O2 = np.kron(O2, X)\n",
    "    for i in range(1, num_qubits-target):\n",
    "        O1 = np.kron(O1, I)\n",
    "        O2 = np.kron(O2, I)\n",
    "    O = O1 + O2\n",
    "    return O"
   ]
  },
  {
   "cell_type": "markdown",
   "id": "alike-middle",
   "metadata": {},
   "source": [
    "### Read program:"
   ]
  },
  {
   "cell_type": "code",
   "execution_count": null,
   "id": "sunrise-tattoo",
   "metadata": {},
   "outputs": [],
   "source": [
    "def run_program(initial_state, program):\n",
    "    size = len(initial_state)\n",
    "    num_qubits = int(math.log2(size))\n",
    "    final_state = initial_state\n",
    "    for i in range(0, len(program)):\n",
    "        if(len((program[i])[\"target\"]) == 1):\n",
    "            target = ((program[i])[\"target\"])[0]\n",
    "\n",
    "            unitary = find_unitary((program[i])[\"gate\"])\n",
    "            operator = get_operator(num_qubits, unitary, target)\n",
    "        elif((program[i])[\"gate\"] == 'cx'):\n",
    "            #if the gate is cnot it will compute the operator via the specific cnot function (it will not use get_operator)\n",
    "            operator = cnot(((program[i])[\"target\"])[0], ((program[i])[\"target\"])[1], num_qubits)\n",
    "        else:\n",
    "            print('The gate: ', (program[i])[\"gate\"], 'does not exists, yet, the program will go to the next one' )\n",
    "        final_state = np.dot(final_state, operator)\n",
    "    \n",
    "    return final_state"
   ]
  },
  {
   "cell_type": "markdown",
   "id": "confident-murray",
   "metadata": {},
   "source": [
    "### Measurment:"
   ]
  },
  {
   "cell_type": "code",
   "execution_count": null,
   "id": "macro-mission",
   "metadata": {},
   "outputs": [],
   "source": [
    "def measure_all(state_vector):\n",
    "    # choose element from state_vector using weighted random and return it's index\n",
    "    pstate_vector = np.abs(state_vector)**2\n",
    "    a = numpy.random.rand(1)[0]\n",
    "    i = 0\n",
    "    prec = 0\n",
    "    while a > pstate_vector[i]+prec:\n",
    "        prec = prec + pstate_vector[i]\n",
    "        i = i+1\n",
    "    return i"
   ]
  },
  {
   "cell_type": "code",
   "execution_count": null,
   "id": "grateful-husband",
   "metadata": {},
   "outputs": [],
   "source": [
    "def get_counts(state_vector, num_shots):\n",
    "    # simply execute measure_all in a loop num_shots times and return object with statistics\n",
    "    occurences = np.zeros_like(np.arange(len(state_vector)))\n",
    "    for i in range(0, num_shots):\n",
    "        place = measure_all(state_vector)\n",
    "        occurences[place] = occurences[place]+1\n",
    "    # convert the array in a dictionary, so it can be easier to understand the output    \n",
    "    odict = {}\n",
    "    type(odict)\n",
    "    for i in range(0, len(occurences)):\n",
    "        if occurences[i]>0: odict[\"{0:b}\".format(i)] = occurences[i]\n",
    "    return odict"
   ]
  },
  {
   "cell_type": "markdown",
   "id": "unique-prophet",
   "metadata": {},
   "source": [
    "You can see an example of usage of the simulator below:"
   ]
  },
  {
   "cell_type": "code",
   "execution_count": null,
   "id": "expected-norway",
   "metadata": {},
   "outputs": [],
   "source": [
    "# Define program:\n",
    "\n",
    "my_circuit = [\n",
    "{ \"gate\": \"h\", \"target\": [0] }, \n",
    "{ \"gate\": \"cx\", \"target\": [0, 1] }\n",
    "]\n",
    "\n",
    "# Create \"quantum computer\" with 2 qubits (this is actually just a vector :) )\n",
    "\n",
    "my_qpu = get_ground_state(2)\n",
    "\n",
    "# Run circuit\n",
    "\n",
    "final_state = run_program(my_qpu, my_circuit)\n",
    "\n",
    "# Read results\n",
    "\n",
    "counts = get_counts(final_state, 1000)\n",
    "\n",
    "print(counts)"
   ]
  },
  {
   "cell_type": "markdown",
   "id": "motivated-bulgaria",
   "metadata": {},
   "source": [
    "## Part 3\n",
    "In this part I've implemented additional requirments of the task.\n",
    "\n",
    "## Parametric gates:\n",
    "In the case of parametric gates (single-qubit gate) it has evaluate the unitary given the parameter.\n",
    "\n",
    "Complete program: [qc_parametric_gates.py](https://github.com/SophieCavallini/QOSF-task/blob/main/qc_parametric_gates.py)."
   ]
  },
  {
   "cell_type": "code",
   "execution_count": null,
   "id": "standard-bristol",
   "metadata": {},
   "outputs": [],
   "source": [
    "def u3_unitary(param):\n",
    "    # return the unitary of a parametric gate given the parameters\n",
    "    theta = param[\"theta\"]\n",
    "    phi = param[\"phi\"]\n",
    "    lam = param[\"lambda\"]\n",
    "    U = [[math.cos(theta/2), -cmath.exp(1j * lam) * math.sin(theta / 2)], \n",
    "         [cmath.exp(1j * phi) * math.sin(theta / 2), cmath.exp(1j * lam + 1j * phi) * math.cos(theta / 2)]]\n",
    "    return U"
   ]
  },
  {
   "cell_type": "markdown",
   "id": "painful-warning",
   "metadata": {},
   "source": [
    "To enable the usage of parametric gates, I also have to change a bit, the run_program function."
   ]
  },
  {
   "cell_type": "code",
   "execution_count": null,
   "id": "wound-television",
   "metadata": {},
   "outputs": [],
   "source": [
    "def run_program(initial_state, program):\n",
    "    size = len(initial_state)\n",
    "    num_qubits = int(math.log2(size))\n",
    "    final_state = initial_state\n",
    "    for i in range(0, len(program)):\n",
    "        if(len((program[i])[\"target\"]) == 1):\n",
    "            target = ((program[i])[\"target\"])[0]\n",
    "            if((program[i])[\"gate\"]==\"u3\"):\n",
    "                #for parametric gates\n",
    "                unitary = u3_unitary((program[i])[\"params\"])\n",
    "            else:\n",
    "                #for elementary gates\n",
    "                unitary = find_unitary((program[i])[\"gate\"])\n",
    "            operator = get_operator(num_qubits, unitary, target)\n",
    "        elif((program[i])[\"gate\"] == 'cx'):\n",
    "            #if the gate is cnot it will compute the operator via the specific cnot function (it will not use get_operator)\n",
    "            operator = cnot(((program[i])[\"target\"])[0], ((program[i])[\"target\"])[1], num_qubits)\n",
    "        else:\n",
    "            print('The gate: ', (program[i])[\"gate\"], 'does not exists, yet, the program will go to the next one' )\n",
    "        final_state = np.dot(final_state, operator)\n",
    "    \n",
    "    return final_state"
   ]
  },
  {
   "cell_type": "markdown",
   "id": "blocked-dylan",
   "metadata": {},
   "source": [
    "You should give the parametric gates to the simulator as in the following example:"
   ]
  },
  {
   "cell_type": "code",
   "execution_count": null,
   "id": "loose-cartridge",
   "metadata": {},
   "outputs": [],
   "source": [
    "[\n",
    "  { \"unitary\": [[\"cos(theta/2)\", \"-exp(i * lambda) * sin(theta / 2)\"], [\"exp(i * phi) * sin(theta / 2)\", \"exp(i * lambda + i * phi) * cos(theta / 2)\"]], \"params\": { \"theta\": 3.1415, \"phi\": 1.15708, \"lambda\": -3.1415 }, \"target\": [0] }\n",
    "  ...\n",
    "]"
   ]
  },
  {
   "cell_type": "markdown",
   "id": "palestinian-issue",
   "metadata": {},
   "source": [
    "### Running Variational Quantum Algorithms\n",
    "With support for parametric gates, all you need to do is to allow global params - and your simulator will be able to run variational quantum algorithms!\n",
    "To be able to run variational quantum algorithms all is needed, with the support for parametric gates, is to allow global parameters.\n",
    "So I had to change a bit the u3_unitary function created above."
   ]
  },
  {
   "cell_type": "code",
   "execution_count": null,
   "id": "heated-cardiff",
   "metadata": {},
   "outputs": [],
   "source": [
    "def u3_unitary(param, gparam):\n",
    "    # return the unitary of a parametric gate given the parameters\n",
    "    \n",
    "    #if there are global parameters it will used them, else it will you use the parameter given in the circuit\n",
    "    if(param[\"theta\"]==\"global_1\"): theta = gparam[\"global_1\"]\n",
    "    else: theta = param[\"theta\"]\n",
    "    if(param[\"phi\"]==\"global_2\"): phi = param[\"global_2\"]\n",
    "    else: phi = param[\"phi\"]\n",
    "    lam = param[\"lambda\"]\n",
    "    U = [[math.cos(theta/2), -cmath.exp(1j * lam) * math.sin(theta / 2)], \n",
    "         [cmath.exp(1j * phi) * math.sin(theta / 2), cmath.exp(1j * lam + 1j * phi) * math.cos(theta / 2)]]\n",
    "    return U\n"
   ]
  },
  {
   "cell_type": "markdown",
   "id": "wireless-helping",
   "metadata": {},
   "source": [
    "Also in this case I had to make some minors changing to run_program."
   ]
  },
  {
   "cell_type": "code",
   "execution_count": null,
   "id": "polished-arthritis",
   "metadata": {},
   "outputs": [],
   "source": [
    "def run_program(initial_state, program, gparams):\n",
    "    size = len(initial_state)\n",
    "    num_qubits = int(math.log2(size))\n",
    "    final_state = initial_state\n",
    "    for i in range(0, len(program)):\n",
    "        if(len((program[i])[\"target\"]) == 1):\n",
    "            target = ((program[i])[\"target\"])[0]\n",
    "            if((program[i])[\"gate\"]==\"u3\"):\n",
    "                #for parametric gates\n",
    "                unitary = u3_unitary((program[i])[\"params\"], gparams)\n",
    "            else:\n",
    "                #for elementary gates\n",
    "                unitary = find_unitary((program[i])[\"gate\"])\n",
    "            operator = get_operator(num_qubits, unitary, target)\n",
    "        elif((program[i])[\"gate\"] == 'cx'):\n",
    "            #if the gate is cnot it will compute the operator via the specific cnot function (it will not use get_operator)\n",
    "            operator = cnot(((program[i])[\"target\"])[0], ((program[i])[\"target\"])[1], num_qubits)\n",
    "        else:\n",
    "            print('The gate: ', (program[i])[\"gate\"], 'does not exists, yet, the program will go to the next one' )\n",
    "        final_state = np.dot(final_state, operator)\n",
    "    \n",
    "    return final_state"
   ]
  },
  {
   "cell_type": "markdown",
   "id": "periodic-thread",
   "metadata": {},
   "source": [
    "An example of circuit with global parameters is the following:"
   ]
  },
  {
   "cell_type": "code",
   "execution_count": null,
   "id": "genuine-marketing",
   "metadata": {},
   "outputs": [],
   "source": [
    "[\n",
    "  { \"gate\": \"u3\", \"params\": { \"theta\": \"global_1\", \"phi\": \"global_2\", \"lambda\": -3.1415 }, \"target\": [0] }\n",
    "  ...\n",
    "]"
   ]
  },
  {
   "cell_type": "markdown",
   "id": "hydraulic-celtic",
   "metadata": {},
   "source": [
    "Add you can pass the global params to run_program:"
   ]
  },
  {
   "cell_type": "code",
   "execution_count": null,
   "id": "focused-genealogy",
   "metadata": {},
   "outputs": [],
   "source": [
    "final_state = run_program(my_qpu, my_circuit, { \"global_1\": 3.1415, \"global_2\": 1.5708 })"
   ]
  }
 ],
 "metadata": {
  "kernelspec": {
   "display_name": "Python 3",
   "language": "python",
   "name": "python3"
  },
  "language_info": {
   "codemirror_mode": {
    "name": "ipython",
    "version": 3
   },
   "file_extension": ".py",
   "mimetype": "text/x-python",
   "name": "python",
   "nbconvert_exporter": "python",
   "pygments_lexer": "ipython3",
   "version": "3.8.8"
  }
 },
 "nbformat": 4,
 "nbformat_minor": 5
}
